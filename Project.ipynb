{
 "cells": [
  {
   "cell_type": "markdown",
   "id": "35357152-9a84-4938-87e9-6bde57049dde",
   "metadata": {},
   "source": [
    "# **Roman Urdu Sentiment Classification – Modeling Experiment**"
   ]
  },
  {
   "attachments": {},
   "cell_type": "markdown",
   "id": "bbae6acd-f394-4843-93a1-8b8693ab740a",
   "metadata": {},
   "source": [
    "This project focuses on building a sentiment classification model for Roman Urdu text using a publicly available dataset from Hugging Face: [romanurdu-sentiment-dataset](https://huggingface.co/datasets/HowMannyMore/romanurdu-sentiment-dataset).\n",
    "\n",
    "<img src=\"image.png\" alt=\"Alt Text\" style=\"width:500px; float:right; margin-right:20px;\" />\n",
    "\n",
    "### Motivation\n",
    "\n",
    "As someone who frequently uses Roman Urdu in online communication, I was particularly interested in understanding how effectively machine learning models can interpret and classify sentiments expressed in this informal, non-standardized script. Roman Urdu presents unique challenges due to inconsistent spelling, lack of formal grammar rules, and rich use of colloquial expressions, making it a compelling area for experimentation in natural language processing (NLP).\n",
    "\n",
    "### Dataset\n",
    "\n",
    "The dataset comprises Roman Urdu text samples labeled with sentiment categories. It serves as a valuable resource for testing how well traditional NLP techniques perform on low-resource, informal languages.\n",
    "\n",
    "### Modeling Approach\n",
    "\n",
    "For this experiment, I'm using the `scikit-learn` library to implement a traditional machine learning pipeline. The steps include:\n",
    "\n",
    "- **TF-IDF Vectorization**: Transforming text data into numerical features.\n",
    "- **Label Encoding**: Converting categorical sentiment labels into numerical format.\n",
    "- **Classification**: Training a **Logistic Regression** model as the baseline classifier.\n",
    "\n",
    "I will evaluate model performance using standard metrics:\n",
    "- **Accuracy**\n",
    "- **Precision, Recall, and F1-Score**\n",
    "- **Confusion Matrix**\n",
    "\n",
    "Depending on initial results, I may also explore alternative models such as Support Vector Machines (SVM), Random Forests, or even experiment with deep learning using TensorFlow.\n",
    "\n",
    "### Code Repository\n",
    "\n",
    "All code and related documentation for this project can be found on GitHub:  \n",
    " [roman-urdu-sentiment-analysis](https://github.com/amyasma/roman-urdu-sentiment-analysis.git)\n"
   ]
  },
  {
   "cell_type": "markdown",
   "id": "a5765bbc-229f-40c6-97f2-a66279e58f03",
   "metadata": {},
   "source": [
    "## Imports \n",
    "Let's begin by importing the necessary libraries for data handling, preprocessing, model training, and evaluation."
   ]
  },
  {
   "cell_type": "code",
   "execution_count": 4,
   "id": "63299996-83f5-4390-b8f0-bef07cf90253",
   "metadata": {},
   "outputs": [],
   "source": [
    "from datasets import load_dataset\n",
    "import matplotlib.pyplot as plt\n",
    "import pandas as pd\n",
    "from collections import Counter\n",
    "import numpy as np\n",
    "import re"
   ]
  },
  {
   "cell_type": "code",
   "execution_count": 5,
   "id": "f1fa0b06-c756-44c9-b100-5ac9501c5244",
   "metadata": {},
   "outputs": [],
   "source": [
    "from sklearn.feature_extraction.text import TfidfVectorizer\n",
    "from sklearn.preprocessing import LabelEncoder\n",
    "from sklearn.model_selection import train_test_split\n",
    "from sklearn.metrics import classification_report\n",
    "from sklearn.metrics import confusion_matrix, ConfusionMatrixDisplay"
   ]
  },
  {
   "cell_type": "code",
   "execution_count": 6,
   "id": "677c1e11-b088-4e23-ba4b-c7b7b8e36bb8",
   "metadata": {},
   "outputs": [],
   "source": [
    "from tensorflow.keras.models import Sequential\n",
    "from tensorflow.keras.layers import Dropout, Dense\n",
    "from tensorflow.keras import regularizers\n",
    "from tensorflow.keras.callbacks import EarlyStopping\n",
    "from keras import layers"
   ]
  },
  {
   "cell_type": "markdown",
   "id": "f74b589d-8949-4eed-a8e9-8b00e194abd2",
   "metadata": {
    "jp-MarkdownHeadingCollapsed": true
   },
   "source": [
    "## Step 1: Load the Dataset\n",
    "To begin, we will load the Roman Urdu sentiment dataset directly from *Hugging Face* using the *datasets* library. This library provides a convenient interface for accessing a wide variety of NLP datasets. Once loaded, we'll convert the dataset into a pandas DataFrame for easier manipulation and analysis."
   ]
  },
  {
   "cell_type": "code",
   "execution_count": 8,
   "id": "c048ab41-bebd-4c86-8583-c2d89badd412",
   "metadata": {},
   "outputs": [
    {
     "data": {
      "text/html": [
       "<div>\n",
       "<style scoped>\n",
       "    .dataframe tbody tr th:only-of-type {\n",
       "        vertical-align: middle;\n",
       "    }\n",
       "\n",
       "    .dataframe tbody tr th {\n",
       "        vertical-align: top;\n",
       "    }\n",
       "\n",
       "    .dataframe thead th {\n",
       "        text-align: right;\n",
       "    }\n",
       "</style>\n",
       "<table border=\"1\" class=\"dataframe\">\n",
       "  <thead>\n",
       "    <tr style=\"text-align: right;\">\n",
       "      <th></th>\n",
       "      <th>text</th>\n",
       "      <th>label</th>\n",
       "    </tr>\n",
       "  </thead>\n",
       "  <tbody>\n",
       "    <tr>\n",
       "      <th>0</th>\n",
       "      <td>namoona word bolungi unhe ek ghoori deni mujhe...</td>\n",
       "      <td>Negative</td>\n",
       "    </tr>\n",
       "    <tr>\n",
       "      <th>1</th>\n",
       "      <td>sir ya kitni month ya years work kra gi?? btw ...</td>\n",
       "      <td>Positive</td>\n",
       "    </tr>\n",
       "    <tr>\n",
       "      <th>2</th>\n",
       "      <td>bhot acha ha shekk bhot umda</td>\n",
       "      <td>Positive</td>\n",
       "    </tr>\n",
       "    <tr>\n",
       "      <th>3</th>\n",
       "      <td>mashaalla give wisdom to our muslims afghan br...</td>\n",
       "      <td>Neutral</td>\n",
       "    </tr>\n",
       "    <tr>\n",
       "      <th>4</th>\n",
       "      <td>hazrat sahab salam mari wife bohat beemar hai ...</td>\n",
       "      <td>Neutral</td>\n",
       "    </tr>\n",
       "  </tbody>\n",
       "</table>\n",
       "</div>"
      ],
      "text/plain": [
       "                                                text     label\n",
       "0  namoona word bolungi unhe ek ghoori deni mujhe...  Negative\n",
       "1  sir ya kitni month ya years work kra gi?? btw ...  Positive\n",
       "2                      bhot acha ha shekk bhot umda   Positive\n",
       "3  mashaalla give wisdom to our muslims afghan br...   Neutral\n",
       "4  hazrat sahab salam mari wife bohat beemar hai ...   Neutral"
      ]
     },
     "execution_count": 8,
     "metadata": {},
     "output_type": "execute_result"
    }
   ],
   "source": [
    "# Step 1: Load the dataset from Hugging Face\n",
    "dataset = load_dataset(\"HowMannyMore/romanurdu-sentiment-dataset\")\n",
    "\n",
    "# Convert to pandas DataFrame (train split only for now)\n",
    "data = dataset[\"train\"].to_pandas()\n",
    "\n",
    "# let's view the first five rows. \n",
    "data.head()"
   ]
  },
  {
   "cell_type": "markdown",
   "id": "7249304b-1d71-4c56-9260-68102f05ea0b",
   "metadata": {},
   "source": [
    "We can also view the characteristics of our data with the help of pandas. For example, let's see how many samples there are for each labels to know what we are dealing with:"
   ]
  },
  {
   "cell_type": "code",
   "execution_count": 10,
   "id": "d23503ce-2f6c-4520-bfd1-0960d65eac79",
   "metadata": {},
   "outputs": [
    {
     "data": {
      "text/plain": [
       "label\n",
       "Neutral     20247\n",
       "Negative    20018\n",
       "Positive    19925\n",
       "Name: count, dtype: int64"
      ]
     },
     "execution_count": 10,
     "metadata": {},
     "output_type": "execute_result"
    }
   ],
   "source": [
    "data['label'].value_counts()"
   ]
  },
  {
   "cell_type": "markdown",
   "id": "3cd01c9e-bd5b-4c18-9ca2-088d1cddb149",
   "metadata": {},
   "source": [
    "## Step 2: Normalize the Text\n",
    "\n",
    "Before moving on to model training, it’s important to ensure the input text is clean and consistent. In this step, we remove any rows with missing values in the text or label columns and apply normalization. This includes:\n",
    "\n",
    "- Removing emojis\n",
    "- Removing punctuation\n",
    "- Reducing repeated characters (e.g., \"bohott\" → \"bohot\")\n",
    "- Converting all text to lowercase\n",
    "  \n",
    "This normalization helps improve model performance, especially for informal text like Romanized Urdu, where spelling and formatting are highly inconsistent."
   ]
  },
  {
   "cell_type": "code",
   "execution_count": 12,
   "id": "4f39f4d4-f1a7-4ddd-a555-30e5bb3965da",
   "metadata": {},
   "outputs": [
    {
     "data": {
      "text/plain": [
       "text     0\n",
       "label    0\n",
       "dtype: int64"
      ]
     },
     "execution_count": 12,
     "metadata": {},
     "output_type": "execute_result"
    }
   ],
   "source": [
    "# Step 2: Drop any rows with missing values\n",
    "data.dropna(subset=[\"text\", \"label\"], inplace=True)\n",
    "\n",
    "# testing that dropna() worked by using isnull().sum() that gives a sum of null values.\n",
    "data.isnull().sum()"
   ]
  },
  {
   "cell_type": "code",
   "execution_count": 13,
   "id": "8f50fc14-dbca-4682-ae73-e4ba65d24372",
   "metadata": {},
   "outputs": [
    {
     "data": {
      "text/html": [
       "<div>\n",
       "<style scoped>\n",
       "    .dataframe tbody tr th:only-of-type {\n",
       "        vertical-align: middle;\n",
       "    }\n",
       "\n",
       "    .dataframe tbody tr th {\n",
       "        vertical-align: top;\n",
       "    }\n",
       "\n",
       "    .dataframe thead th {\n",
       "        text-align: right;\n",
       "    }\n",
       "</style>\n",
       "<table border=\"1\" class=\"dataframe\">\n",
       "  <thead>\n",
       "    <tr style=\"text-align: right;\">\n",
       "      <th></th>\n",
       "      <th>text</th>\n",
       "      <th>label</th>\n",
       "      <th>text_cleaned</th>\n",
       "    </tr>\n",
       "  </thead>\n",
       "  <tbody>\n",
       "    <tr>\n",
       "      <th>0</th>\n",
       "      <td>namoona word bolungi unhe ek ghoori deni mujhe...</td>\n",
       "      <td>Negative</td>\n",
       "      <td>namoona word bolungi unhe ek ghoori deni mujhe...</td>\n",
       "    </tr>\n",
       "    <tr>\n",
       "      <th>1</th>\n",
       "      <td>sir ya kitni month ya years work kra gi?? btw ...</td>\n",
       "      <td>Positive</td>\n",
       "      <td>sir ya kitni month ya years work kra gi btw mu...</td>\n",
       "    </tr>\n",
       "    <tr>\n",
       "      <th>2</th>\n",
       "      <td>bhot acha ha shekk bhot umda</td>\n",
       "      <td>Positive</td>\n",
       "      <td>bhot acha ha shekk bhot umda</td>\n",
       "    </tr>\n",
       "    <tr>\n",
       "      <th>3</th>\n",
       "      <td>mashaalla give wisdom to our muslims afghan br...</td>\n",
       "      <td>Neutral</td>\n",
       "      <td>mashaalla give wisdom to our muslims afghan br...</td>\n",
       "    </tr>\n",
       "    <tr>\n",
       "      <th>4</th>\n",
       "      <td>hazrat sahab salam mari wife bohat beemar hai ...</td>\n",
       "      <td>Neutral</td>\n",
       "      <td>hazrat sahab salam mari wife bohat beemar hai ...</td>\n",
       "    </tr>\n",
       "  </tbody>\n",
       "</table>\n",
       "</div>"
      ],
      "text/plain": [
       "                                                text     label  \\\n",
       "0  namoona word bolungi unhe ek ghoori deni mujhe...  Negative   \n",
       "1  sir ya kitni month ya years work kra gi?? btw ...  Positive   \n",
       "2                      bhot acha ha shekk bhot umda   Positive   \n",
       "3  mashaalla give wisdom to our muslims afghan br...   Neutral   \n",
       "4  hazrat sahab salam mari wife bohat beemar hai ...   Neutral   \n",
       "\n",
       "                                        text_cleaned  \n",
       "0  namoona word bolungi unhe ek ghoori deni mujhe...  \n",
       "1  sir ya kitni month ya years work kra gi btw mu...  \n",
       "2                       bhot acha ha shekk bhot umda  \n",
       "3  mashaalla give wisdom to our muslims afghan br...  \n",
       "4  hazrat sahab salam mari wife bohat beemar hai ...  "
      ]
     },
     "execution_count": 13,
     "metadata": {},
     "output_type": "execute_result"
    }
   ],
   "source": [
    "emoji_pattern = re.compile(\n",
    "    \"[\"\n",
    "    u\"\\U0001F600-\\U0001F64F\"  # Emoticons\n",
    "    u\"\\U0001F300-\\U0001F5FF\"  # Symbols & pictographs\n",
    "    u\"\\U0001F680-\\U0001F6FF\"  # Transport & map symbols\n",
    "    u\"\\U0001F1E0-\\U0001F1FF\"  # Flags (iOS)\n",
    "    u\"\\U00002700-\\U000027BF\"  # Dingbats\n",
    "    u\"\\U000024C2-\\U0001F251\"  # Enclosed characters\n",
    "    \"]+\", flags=re.UNICODE\n",
    ")\n",
    "\n",
    "def normalize_text(text):\n",
    "    text = text.lower()\n",
    "    text = emoji_pattern.sub(r'', text)            # Remove emojis\n",
    "    text = re.sub(r'[^\\w\\s]', '', text)            # Remove punctuation\n",
    "    text = re.sub(r'(.)\\1{2,}', r'\\1\\1', text)      # Limit repeated characters\n",
    "\n",
    "    tokens = text.split()\n",
    "    return \" \".join(tokens)\n",
    "\n",
    "# Apply to your dataset\n",
    "data['text_cleaned'] = data['text'].apply(normalize_text)\n",
    "\n",
    "# Preview\n",
    "data.head()\n"
   ]
  },
  {
   "cell_type": "markdown",
   "id": "a4f3174e-0104-4d1f-b4db-5f8433522900",
   "metadata": {},
   "source": [
    "## Step 3: Encode Sentiment Labels\n",
    "\n",
    "Machine learning models work with numerical data, so we need to convert the sentiment labels (e.g., positive, negative, neutral) into numeric format. We'll use LabelEncoder from scikit-learn to perform this transformation."
   ]
  },
  {
   "cell_type": "code",
   "execution_count": 15,
   "id": "4ac2b73c-6924-4714-ac64-ff24bae6f049",
   "metadata": {},
   "outputs": [],
   "source": [
    "# Initialize the label encoder\n",
    "le = LabelEncoder()\n",
    "\n",
    "# Fit the encoder and transform the sentiment labels\n",
    "data['label_encoded'] = le.fit_transform(data['label'])\n"
   ]
  },
  {
   "cell_type": "markdown",
   "id": "4290e8e1-96af-490b-8f10-f1c6f0b91781",
   "metadata": {},
   "source": [
    "Let's see if it worked"
   ]
  },
  {
   "cell_type": "code",
   "execution_count": 17,
   "id": "bbccb1dc-9a0e-4423-92cd-8b4ad31353f0",
   "metadata": {},
   "outputs": [
    {
     "name": "stdout",
     "output_type": "stream",
     "text": [
      "Label Mapping: \n",
      " {'Negative': 0, 'Neutral': 1, 'Positive': 2} \n",
      "\n"
     ]
    },
    {
     "data": {
      "text/html": [
       "<div>\n",
       "<style scoped>\n",
       "    .dataframe tbody tr th:only-of-type {\n",
       "        vertical-align: middle;\n",
       "    }\n",
       "\n",
       "    .dataframe tbody tr th {\n",
       "        vertical-align: top;\n",
       "    }\n",
       "\n",
       "    .dataframe thead th {\n",
       "        text-align: right;\n",
       "    }\n",
       "</style>\n",
       "<table border=\"1\" class=\"dataframe\">\n",
       "  <thead>\n",
       "    <tr style=\"text-align: right;\">\n",
       "      <th></th>\n",
       "      <th>text</th>\n",
       "      <th>label</th>\n",
       "      <th>text_cleaned</th>\n",
       "      <th>label_encoded</th>\n",
       "    </tr>\n",
       "  </thead>\n",
       "  <tbody>\n",
       "    <tr>\n",
       "      <th>0</th>\n",
       "      <td>namoona word bolungi unhe ek ghoori deni mujhe...</td>\n",
       "      <td>Negative</td>\n",
       "      <td>namoona word bolungi unhe ek ghoori deni mujhe...</td>\n",
       "      <td>0</td>\n",
       "    </tr>\n",
       "    <tr>\n",
       "      <th>1</th>\n",
       "      <td>sir ya kitni month ya years work kra gi?? btw ...</td>\n",
       "      <td>Positive</td>\n",
       "      <td>sir ya kitni month ya years work kra gi btw mu...</td>\n",
       "      <td>2</td>\n",
       "    </tr>\n",
       "    <tr>\n",
       "      <th>2</th>\n",
       "      <td>bhot acha ha shekk bhot umda</td>\n",
       "      <td>Positive</td>\n",
       "      <td>bhot acha ha shekk bhot umda</td>\n",
       "      <td>2</td>\n",
       "    </tr>\n",
       "    <tr>\n",
       "      <th>3</th>\n",
       "      <td>mashaalla give wisdom to our muslims afghan br...</td>\n",
       "      <td>Neutral</td>\n",
       "      <td>mashaalla give wisdom to our muslims afghan br...</td>\n",
       "      <td>1</td>\n",
       "    </tr>\n",
       "    <tr>\n",
       "      <th>4</th>\n",
       "      <td>hazrat sahab salam mari wife bohat beemar hai ...</td>\n",
       "      <td>Neutral</td>\n",
       "      <td>hazrat sahab salam mari wife bohat beemar hai ...</td>\n",
       "      <td>1</td>\n",
       "    </tr>\n",
       "  </tbody>\n",
       "</table>\n",
       "</div>"
      ],
      "text/plain": [
       "                                                text     label  \\\n",
       "0  namoona word bolungi unhe ek ghoori deni mujhe...  Negative   \n",
       "1  sir ya kitni month ya years work kra gi?? btw ...  Positive   \n",
       "2                      bhot acha ha shekk bhot umda   Positive   \n",
       "3  mashaalla give wisdom to our muslims afghan br...   Neutral   \n",
       "4  hazrat sahab salam mari wife bohat beemar hai ...   Neutral   \n",
       "\n",
       "                                        text_cleaned  label_encoded  \n",
       "0  namoona word bolungi unhe ek ghoori deni mujhe...              0  \n",
       "1  sir ya kitni month ya years work kra gi btw mu...              2  \n",
       "2                       bhot acha ha shekk bhot umda              2  \n",
       "3  mashaalla give wisdom to our muslims afghan br...              1  \n",
       "4  hazrat sahab salam mari wife bohat beemar hai ...              1  "
      ]
     },
     "execution_count": 17,
     "metadata": {},
     "output_type": "execute_result"
    }
   ],
   "source": [
    "# Display the mapping for reference\n",
    "label_mapping = dict(zip(le.classes_, le.transform(le.classes_)))\n",
    "print(\"Label Mapping: \\n\", label_mapping, \"\\n\")\n",
    "\n",
    "# Preview the updated DataFrame\n",
    "data.head()"
   ]
  },
  {
   "cell_type": "markdown",
   "id": "fb95db17-58f0-49d6-a232-8430b3f907f9",
   "metadata": {},
   "source": [
    "## Step 4: TF-IDF Vectorization\n",
    "\n",
    "To convert the Roman Urdu text into numerical features that a machine learning model can understand, we use TF-IDF (Term Frequency–Inverse Document Frequency) vectorization. This technique highlights important words and reduces the weight of common, less informative ones.\n",
    "\n",
    "We'll use TfidfVectorizer from scikit-learn with the following settings:\n",
    "\n",
    "- max_features=5000: Limits the vocabulary to the top 5,000 most frequent terms.\n",
    "- ngram_range=(1, 2): Includes both unigrams (single words) and bigrams (pairs of consecutive words).\n",
    "\n",
    "*(instead of using X and y I intentionally used tfidf and labels to make it clear what we are working with)*"
   ]
  },
  {
   "cell_type": "code",
   "execution_count": 19,
   "id": "82531735-8275-4fa3-b070-77d8245bcc69",
   "metadata": {},
   "outputs": [
    {
     "name": "stdout",
     "output_type": "stream",
     "text": [
      "  (0, 5356)\t0.3393096371753464\n",
      "  (0, 833)\t0.3042348850507124\n",
      "  (0, 9225)\t0.3519956708954517\n",
      "  (0, 8864)\t0.18994214349430852\n",
      "  (0, 5301)\t0.12144924796869044\n",
      "  (0, 832)\t0.2716926604642787\n",
      "  (0, 1320)\t0.14140694866216819\n",
      "  (0, 9223)\t0.17968132891415123\n",
      "  (0, 9494)\t0.3166107356977849\n",
      "  (0, 6420)\t0.20066619387590343\n",
      "  (0, 2152)\t0.3166107356977849\n",
      "  (0, 2405)\t0.21197520804680606\n",
      "  (0, 9317)\t0.3088613180642841\n",
      "  (0, 9727)\t0.3322688189635369\n",
      "0    0\n",
      "1    2\n",
      "2    2\n",
      "3    1\n",
      "Name: label_encoded, dtype: int64\n"
     ]
    }
   ],
   "source": [
    "# Initialize the TF-IDF vectorizer\n",
    "vectorizer = TfidfVectorizer(max_features=10000, ngram_range=(1, 3))\n",
    "\n",
    "# Transform the text data into TF-IDF features\n",
    "X = vectorizer.fit_transform(data[\"text_cleaned\"])\n",
    "\n",
    "# Target labels\n",
    "y = data[\"label_encoded\"]\n",
    "\n",
    "# see tfidf until 1\n",
    "print (X [:1])\n",
    "# see labels\n",
    "print (y[:4])"
   ]
  },
  {
   "cell_type": "markdown",
   "id": "cdc5e03d-87a0-452b-8b28-3df6a8a67c57",
   "metadata": {},
   "source": [
    "## Step 5: Train-Test Split\n",
    "\n",
    "To evaluate the model's performance, we divide the dataset into training and testing subsets. This helps ensure that the model is evaluated on unseen data, providing a more reliable measure of its generalization capability.\n",
    "\n",
    "We use train_test_split from scikit-learn with the following parameters:\n",
    "\n",
    "- test_size = Allocates 20% of the data for testing.\n",
    "- random_state = Sets a fixed seed for reproducibility.\n",
    "\n",
    "Our tfidf will be *'X'* for input and our labels will be *'y'* for the target/predicted output that are the standard terms. "
   ]
  },
  {
   "cell_type": "code",
   "execution_count": 21,
   "id": "0b6cb0c6-4f7f-43e4-8ee0-25639ddae529",
   "metadata": {},
   "outputs": [],
   "source": [
    "# Split the dataset into training and testing sets\n",
    "X_train, X_test, y_train, y_test = train_test_split(\n",
    "    X, y, test_size=0.2, random_state=42\n",
    ")\n"
   ]
  },
  {
   "cell_type": "markdown",
   "id": "c32e07ce-3524-431a-aed3-8c0b6d72d09c",
   "metadata": {},
   "source": [
    "## Step 6: Create Logistic Regression Model Using TensorFlow\n",
    "\n",
    "In this step, we will implement a logistic regression model using TensorFlow. While logistic regression is commonly built using scikit-learn, we are opting for TensorFlow to take advantage of its flexibility and built-in support for tracking training metrics such as accuracy and loss over epochs.\n",
    "\n",
    "We define a simple model with a single dense output layer using a softmax activation function, suitable for multiclass classification."
   ]
  },
  {
   "cell_type": "code",
   "execution_count": 23,
   "id": "43070cbe-b86f-456f-8c99-ff2cae0330f2",
   "metadata": {},
   "outputs": [
    {
     "name": "stderr",
     "output_type": "stream",
     "text": [
      "/opt/anaconda3/lib/python3.12/site-packages/keras/src/layers/core/dense.py:87: UserWarning: Do not pass an `input_shape`/`input_dim` argument to a layer. When using Sequential models, prefer using an `Input(shape)` object as the first layer in the model instead.\n",
      "  super().__init__(activity_regularizer=activity_regularizer, **kwargs)\n"
     ]
    }
   ],
   "source": [
    "model = Sequential([\n",
    "    Dense(60, activation='relu', input_shape=(X_train.shape[1],),\n",
    "          kernel_regularizer=regularizers.l2(0.00001)),\n",
    "    Dropout(0.4),\n",
    "    Dense(64, activation='relu', kernel_regularizer=regularizers.l2(0.00001)),\n",
    "    Dropout(0.3),\n",
    "    Dense(len(le.classes_), activation='softmax')\n",
    "])\n",
    "model.compile(\n",
    "    optimizer='adam',\n",
    "    loss='sparse_categorical_crossentropy',\n",
    "    metrics=['accuracy']\n",
    ")"
   ]
  },
  {
   "cell_type": "markdown",
   "id": "73a474e3-ebca-40f3-b63b-627d00fed35c",
   "metadata": {},
   "source": [
    "## Step 7: Train the Network"
   ]
  },
  {
   "cell_type": "code",
   "execution_count": 25,
   "id": "99238281-2b62-4ef2-91cd-f4735e95ef5e",
   "metadata": {},
   "outputs": [
    {
     "name": "stdout",
     "output_type": "stream",
     "text": [
      "Epoch 1/50\n",
      "\u001b[1m1505/1505\u001b[0m \u001b[32m━━━━━━━━━━━━━━━━━━━━\u001b[0m\u001b[37m\u001b[0m \u001b[1m14s\u001b[0m 9ms/step - accuracy: 0.6412 - loss: 0.8052 - val_accuracy: 0.7710 - val_loss: 0.5700\n",
      "Epoch 2/50\n",
      "\u001b[1m1505/1505\u001b[0m \u001b[32m━━━━━━━━━━━━━━━━━━━━\u001b[0m\u001b[37m\u001b[0m \u001b[1m13s\u001b[0m 9ms/step - accuracy: 0.8227 - loss: 0.4707 - val_accuracy: 0.7751 - val_loss: 0.5723\n",
      "Epoch 3/50\n",
      "\u001b[1m1505/1505\u001b[0m \u001b[32m━━━━━━━━━━━━━━━━━━━━\u001b[0m\u001b[37m\u001b[0m \u001b[1m13s\u001b[0m 9ms/step - accuracy: 0.8604 - loss: 0.3863 - val_accuracy: 0.7732 - val_loss: 0.6082\n",
      "Epoch 4/50\n",
      "\u001b[1m1505/1505\u001b[0m \u001b[32m━━━━━━━━━━━━━━━━━━━━\u001b[0m\u001b[37m\u001b[0m \u001b[1m14s\u001b[0m 9ms/step - accuracy: 0.8922 - loss: 0.3219 - val_accuracy: 0.7748 - val_loss: 0.6592\n",
      "Epoch 5/50\n",
      "\u001b[1m1505/1505\u001b[0m \u001b[32m━━━━━━━━━━━━━━━━━━━━\u001b[0m\u001b[37m\u001b[0m \u001b[1m14s\u001b[0m 9ms/step - accuracy: 0.9107 - loss: 0.2739 - val_accuracy: 0.7770 - val_loss: 0.7109\n",
      "Epoch 6/50\n",
      "\u001b[1m1505/1505\u001b[0m \u001b[32m━━━━━━━━━━━━━━━━━━━━\u001b[0m\u001b[37m\u001b[0m \u001b[1m14s\u001b[0m 9ms/step - accuracy: 0.9256 - loss: 0.2407 - val_accuracy: 0.7765 - val_loss: 0.7639\n"
     ]
    }
   ],
   "source": [
    "# Step 5: Train the model\n",
    "\n",
    "early_stop = EarlyStopping(\n",
    "    monitor='val_loss',      # Stop when validation loss stops improving\n",
    "    patience=5,              # Wait 2 epochs before stopping\n",
    "    restore_best_weights=True  # Restore model weights from the epoch with best val_loss\n",
    ")\n",
    "\n",
    "history = model.fit(\n",
    "    X_train, y_train,\n",
    "    validation_data=(X_test, y_test),\n",
    "    epochs=50,\n",
    "    batch_size=32,\n",
    "    callbacks=[early_stop]  \n",
    ")\n"
   ]
  },
  {
   "cell_type": "markdown",
   "id": "aead6433-7ea1-4a68-81b9-6655bebc8365",
   "metadata": {},
   "source": [
    "## Step 8: Evaluate Model Performance\n",
    "\n",
    "After training, we evaluate the model's performance on the test set by generating a classification report. Since TensorFlow's model.predict() returns class probabilities, we use argmax to convert them into predicted labels"
   ]
  },
  {
   "cell_type": "code",
   "execution_count": 27,
   "id": "5c95ef7c-a0ab-4fe6-8cc8-d1414d447eea",
   "metadata": {},
   "outputs": [
    {
     "name": "stdout",
     "output_type": "stream",
     "text": [
      "\u001b[1m377/377\u001b[0m \u001b[32m━━━━━━━━━━━━━━━━━━━━\u001b[0m\u001b[37m\u001b[0m \u001b[1m1s\u001b[0m 2ms/step\n",
      "\n",
      "**Classification Report**\n",
      "\n",
      "              precision    recall  f1-score   support\n",
      "\n",
      "    Negative       0.81      0.77      0.79      4070\n",
      "     Neutral       0.73      0.75      0.74      4034\n",
      "    Positive       0.78      0.79      0.79      3934\n",
      "\n",
      "    accuracy                           0.77     12038\n",
      "   macro avg       0.77      0.77      0.77     12038\n",
      "weighted avg       0.77      0.77      0.77     12038\n",
      "\n",
      "\u001b[1m377/377\u001b[0m \u001b[32m━━━━━━━━━━━━━━━━━━━━\u001b[0m\u001b[37m\u001b[0m \u001b[1m0s\u001b[0m 1ms/step - accuracy: 0.7658 - loss: 0.5755\n",
      "Test Accuracy: 0.7710\n"
     ]
    }
   ],
   "source": [
    "# Predict class probabilities\n",
    "y_pred_probs = model.predict(X_test)\n",
    "\n",
    "# Convert probabilities to class indices\n",
    "y_pred = np.argmax(y_pred_probs, axis=1)\n",
    "\n",
    "# Generate and display classification report\n",
    "print(\"\\n**Classification Report**\\n\")\n",
    "print(classification_report(y_test, y_pred, target_names=le.classes_))\n",
    "\n",
    "test_loss, test_acc = model.evaluate(X_test, y_test, verbose=1)\n",
    "print(f\"Test Accuracy: {test_acc:.4f}\")\n"
   ]
  },
  {
   "cell_type": "markdown",
   "id": "d877ef01-4141-4c52-a52d-66684861d356",
   "metadata": {},
   "source": [
    "## Step 8: Predict Sentiment for New Roman Urdu Sentences\n",
    "\n",
    "Now that the model is trained, we can use it to predict sentiments for new, unseen Roman Urdu sentences. These sentences will be transformed using the same TF-IDF vectorizer, and the model will output predicted sentiment labels."
   ]
  },
  {
   "cell_type": "code",
   "execution_count": 29,
   "id": "b08df291-b236-4be5-9eed-ecfa646b663d",
   "metadata": {},
   "outputs": [
    {
     "name": "stdout",
     "output_type": "stream",
     "text": [
      "\u001b[1m1/1\u001b[0m \u001b[32m━━━━━━━━━━━━━━━━━━━━\u001b[0m\u001b[37m\u001b[0m \u001b[1m0s\u001b[0m 35ms/step\n",
      "\n",
      " **Sentiment Predictions** \n",
      "\n",
      "['mujhe ye film pasand nahi aayi', 'Negative']\n",
      "['bht acha drama tha', 'Positive']\n",
      "['sahi tha bas', 'Neutral']\n"
     ]
    }
   ],
   "source": [
    "# Sample Roman Urdu sentences\n",
    "new_texts = [\n",
    "    \"mujhe ye film pasand nahi aayi\",\n",
    "    \"bht acha drama tha\",\n",
    "    \"sahi tha bas\"\n",
    "]\n",
    "\n",
    "# Transform the new text using the same TF-IDF vectorizer\n",
    "X_new = vectorizer.transform(new_texts).toarray()\n",
    "\n",
    "# Predict probabilities and convert to class labels\n",
    "pred_probs = model.predict(X_new)\n",
    "pred_classes = np.argmax(pred_probs, axis=1)\n",
    "\n",
    "# Convert numeric labels back to original sentiment labels\n",
    "predicted_labels = le.inverse_transform(pred_classes)\n",
    "\n",
    "# Display predictions\n",
    "print(\"\\n **Sentiment Predictions** \\n\")\n",
    "for text, label in zip(new_texts, predicted_labels):\n",
    "    print([text, label])"
   ]
  },
  {
   "cell_type": "code",
   "execution_count": 30,
   "id": "6b76d3ba-b535-4889-a427-fdf2c76ae750",
   "metadata": {},
   "outputs": [
    {
     "name": "stdout",
     "output_type": "stream",
     "text": [
      "\n",
      "**Sentiment Summary** \n",
      "\n",
      "Neutral     34.71%\n",
      "Positive    32.93%\n",
      "Negative    32.36%\n",
      "Name: proportion, dtype: object\n"
     ]
    }
   ],
   "source": [
    "# Convert predicted class indices to actual labels using your label encoder\n",
    "\n",
    "pred_labels = le.inverse_transform(y_pred)\n",
    "\n",
    "summary = pd.Series(pred_labels).value_counts(normalize=True) * 100\n",
    "summary = summary.round(2).astype(str) + '%'\n",
    "\n",
    "print(\"\\n**Sentiment Summary** \\n\")\n",
    "print(summary)\n"
   ]
  },
  {
   "cell_type": "markdown",
   "id": "b1f57cf6-51b2-468f-acb4-6cfe959cc689",
   "metadata": {},
   "source": [
    "## Data Visualization:\n",
    "\n",
    "To better understand the structure and distribution of the dataset, let's now explore it through visualizations."
   ]
  },
  {
   "cell_type": "markdown",
   "id": "de4835c0-7b68-43d2-962b-42bd0f3ae3d2",
   "metadata": {},
   "source": [
    "### **Confusion Matrix**\n",
    "\n",
    "A confusion matrix provides a detailed breakdown of the model's classification performance by showing the number of correct and incorrect predictions for each class. It helps identify which classes the model is confusing with others.\n",
    "\n",
    "We will use ConfusionMatrixDisplay from scikit-learn to visualize it, with class labels displayed for clarity."
   ]
  },
  {
   "cell_type": "code",
   "execution_count": 60,
   "id": "fdb8c571-99a8-40a7-bc66-e140d0a1aee3",
   "metadata": {},
   "outputs": [
    {
     "data": {
      "image/png": "[encoded data removed]",
      "text/plain": [
       "<Figure size 640x480 with 2 Axes>"
      ]
     },
     "metadata": {},
     "output_type": "display_data"
    }
   ],
   "source": [
    "# Generate confusion matrix using predicted classes\n",
    "cm = confusion_matrix(y_test, y_pred, labels=range(len(le.classes_)))\n",
    "\n",
    "# Display it\n",
    "disp = ConfusionMatrixDisplay(confusion_matrix=cm, display_labels=le.classes_)\n",
    "disp.plot(cmap='Blues', xticks_rotation=45)\n",
    "plt.title(\"Confusion Matrix\")\n",
    "plt.show()\n"
   ]
  },
  {
   "cell_type": "markdown",
   "id": "0f6d8fce-4739-4cff-9a9a-1579f65f3eb5",
   "metadata": {},
   "source": [
    "### **Accuracy VS Loss**\n",
    "\n",
    "Let’s visualize how the model’s accuracy and loss evolved over each training epoch using Matplotlib. This helps us assess convergence, detect signs of overfitting, and better understand model behavior during training"
   ]
  },
  {
   "cell_type": "code",
   "execution_count": 56,
   "id": "8943a2ee-bed6-48f2-a1a9-b51669a12d57",
   "metadata": {},
   "outputs": [
    {
     "data": {
      "image/png": "[encoded data removed]",
      "text/plain": [
       "<Figure size 640x480 with 1 Axes>"
      ]
     },
     "metadata": {},
     "output_type": "display_data"
    }
   ],
   "source": [
    "plt.plot(history.history['accuracy'], label='Train Acc')\n",
    "plt.plot(history.history['loss'], label='Train Loss')\n",
    "plt.legend()\n",
    "plt.show()\n"
   ]
  },
  {
   "cell_type": "markdown",
   "id": "4cdfc15e-f3f2-4677-929f-39ff939f5d6f",
   "metadata": {},
   "source": [
    "# Comments & Explanation\n",
    "\n",
    "I developed a sentiment analysis system using a simple feedforward deep neural network, which achieved an accuracy of 77%. Initially, I experimented with an RNN using LSTM layers. However, I soon realized that this architecture was not well-suited to the nature of my dataset.\n",
    "\n",
    "My dataset consists of Romanized Urdu, where Urdu is written using the English alphabet. One of the main challenges with Romanized Urdu is the lack of standardized spelling. For example, a single word like \"kar\" (to do) may appear as \"kar,\" \"kr,\" \"ker,\" etc., depending on individual writing style. This variation made it difficult for the LSTM model to generalize effectively, and it only achieved around 34% accuracy, clearly underperforming.\n",
    "\n",
    "Romanized Urdu also lacks linguistic resources such as stemming, lemmatization, or standard lexicons, which limited my ability to normalize the text. Aside from basic preprocessing like removing punctuation and emojis, there was not much more that could be done at the text level.\n",
    "\n",
    "In contrast, a TF-IDF representation combined with a feedforward neural network handled these spelling inconsistencies far more efficiently, producing significantly better results. TF-IDF effectively captures word-level patterns without relying on sequence order or deep semantic context, making it well-suited for this kind of informal and inconsistent text.\n",
    "\n",
    "I chose to use TensorFlow rather than scikit-learn to build the model, as TensorFlow offers more comprehensive tools for visualizing training metrics, such as accuracy and loss over epochs. These visualizations were especially useful for monitoring training progress and detecting overfitting. For evaluation, I incorporated scikit-learn’s confusion matrix, which provided a clear view of how well the model was performing across each sentiment category and helped highlight specific areas for improvement."
   ]
  }
 ],
 "metadata": {
  "kernelspec": {
   "display_name": "Python 3 (ipykernel)",
   "language": "python",
   "name": "python3"
  },
  "language_info": {
   "codemirror_mode": {
    "name": "ipython",
    "version": 3
   },
   "file_extension": ".py",
   "mimetype": "text/x-python",
   "name": "python",
   "nbconvert_exporter": "python",
   "pygments_lexer": "ipython3",
   "version": "3.12.4"
  }
 },
 "nbformat": 4,
 "nbformat_minor": 5
}
